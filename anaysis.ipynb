{
 "cells": [
  {
   "cell_type": "markdown",
   "metadata": {},
   "source": [
    "#Processing data"
   ]
  },
  {
   "cell_type": "markdown",
   "metadata": {
    "collapsed": true
   },
   "source": [
    "#Filter"
   ]
  },
  {
   "cell_type": "markdown",
   "metadata": {},
   "source": [
    "load data from json, select tweets that have the keywords"
   ]
  },
  {
   "cell_type": "code",
   "execution_count": 2,
   "metadata": {
    "collapsed": false
   },
   "outputs": [
    {
     "data": {
      "text/plain": [
       "True"
      ]
     },
     "execution_count": 2,
     "metadata": {},
     "output_type": "execute_result"
    }
   ],
   "source": [
    "keywords = set(['murder', 'shooting', 'gun', 'police', 'fatal', \\\n",
    "            'killing', 'killer', 'cop', 'criminal', 'massacre', 'gang', 'court', 'died'])"
   ]
  },
  {
   "cell_type": "code",
   "execution_count": 3,
   "metadata": {
    "collapsed": true
   },
   "outputs": [],
   "source": [
    "def whether_tweet_has_keywords(tweet, keywords):\n",
    "    text = tweet['text']\n",
    "    words = set(text.split())\n",
    "    if len(words.intersection(keywords)) > 1:\n",
    "        return True\n",
    "    return False"
   ]
  },
  {
   "cell_type": "code",
   "execution_count": 12,
   "metadata": {
    "collapsed": false
   },
   "outputs": [],
   "source": [
    "datapath = 'data/raw/'\n",
    "from os import listdir\n",
    "import json\n",
    "import codecs\n",
    "files = listdir(datapath)"
   ]
  },
  {
   "cell_type": "code",
   "execution_count": 13,
   "metadata": {
    "collapsed": false
   },
   "outputs": [
    {
     "data": {
      "text/plain": [
       "{u'contributors': None,\n",
       " u'coordinates': None,\n",
       " u'created_at': u'Mon Sep 28 23:59:59 +0000 2015',\n",
       " u'entities': {u'hashtags': [{u'indices': [123, 134], u'text': u'MunkDebate'}],\n",
       "  u'symbols': [],\n",
       "  u'urls': [{u'display_url': u'amp.twimg.com/v/79f81fa4-7cf\\u2026',\n",
       "    u'expanded_url': u'https://amp.twimg.com/v/79f81fa4-7cf7-41d0-a3aa-34720de7645e',\n",
       "    u'indices': [139, 140],\n",
       "    u'url': u'https://t.co/pLFlCETgiD'}],\n",
       "  u'user_mentions': [{u'id': 28370071,\n",
       "    u'id_str': u'28370071',\n",
       "    u'indices': [3, 18],\n",
       "    u'name': u'Green Party Canada',\n",
       "    u'screen_name': u'CanadianGreens'}]},\n",
       " u'favorite_count': 0,\n",
       " u'favorited': False,\n",
       " u'geo': None,\n",
       " u'id': 648648380743294976,\n",
       " u'id_str': u'648648380743294976',\n",
       " u'in_reply_to_screen_name': None,\n",
       " u'in_reply_to_status_id': None,\n",
       " u'in_reply_to_status_id_str': None,\n",
       " u'in_reply_to_user_id': None,\n",
       " u'in_reply_to_user_id_str': None,\n",
       " u'is_quote_status': False,\n",
       " u'lang': u'en',\n",
       " u'metadata': {u'iso_language_code': u'en', u'result_type': u'recent'},\n",
       " u'place': None,\n",
       " u'possibly_sensitive': False,\n",
       " u'retweet_count': 186,\n",
       " u'retweeted': False,\n",
       " u'retweeted_status': {u'contributors': None,\n",
       "  u'coordinates': None,\n",
       "  u'created_at': u'Mon Sep 28 23:53:32 +0000 2015',\n",
       "  u'entities': {u'hashtags': [{u'indices': [103, 114],\n",
       "     u'text': u'MunkDebate'}],\n",
       "   u'symbols': [],\n",
       "   u'urls': [{u'display_url': u'amp.twimg.com/v/79f81fa4-7cf\\u2026',\n",
       "     u'expanded_url': u'https://amp.twimg.com/v/79f81fa4-7cf7-41d0-a3aa-34720de7645e',\n",
       "     u'indices': [115, 138],\n",
       "     u'url': u'https://t.co/pLFlCETgiD'}],\n",
       "   u'user_mentions': []},\n",
       "  u'favorite_count': 134,\n",
       "  u'favorited': False,\n",
       "  u'geo': None,\n",
       "  u'id': 648646755249098752,\n",
       "  u'id_str': u'648646755249098752',\n",
       "  u'in_reply_to_screen_name': None,\n",
       "  u'in_reply_to_status_id': None,\n",
       "  u'in_reply_to_status_id_str': None,\n",
       "  u'in_reply_to_user_id': None,\n",
       "  u'in_reply_to_user_id_str': None,\n",
       "  u'is_quote_status': False,\n",
       "  u'lang': u'en',\n",
       "  u'metadata': {u'iso_language_code': u'en', u'result_type': u'recent'},\n",
       "  u'place': None,\n",
       "  u'possibly_sensitive': False,\n",
       "  u'retweet_count': 186,\n",
       "  u'retweeted': False,\n",
       "  u'source': u'<a href=\"http://twitter.com\" rel=\"nofollow\">Twitter Web Client</a>',\n",
       "  u'text': u'Mr. Harper has irresponsibly allowed us to fall behind on helping the poor around the world. Shameful. #MunkDebate\\nhttps://t.co/pLFlCETgiD',\n",
       "  u'truncated': False,\n",
       "  u'user': {u'contributors_enabled': False,\n",
       "   u'created_at': u'Thu Apr 02 16:38:50 +0000 2009',\n",
       "   u'default_profile': False,\n",
       "   u'default_profile_image': False,\n",
       "   u'description': u'Official Twitter account of the Green Party of Canada. Follow #GPC leader @ElizabethMay this #elxn42. Suivez-nous en fran\\xe7ais \\xe0 @LesVertsCanada',\n",
       "   u'entities': {u'description': {u'urls': []},\n",
       "    u'url': {u'urls': [{u'display_url': u'greenparty.ca',\n",
       "       u'expanded_url': u'http://greenparty.ca',\n",
       "       u'indices': [0, 22],\n",
       "       u'url': u'http://t.co/brZVP1xnPc'}]}},\n",
       "   u'favourites_count': 222,\n",
       "   u'follow_request_sent': False,\n",
       "   u'followers_count': 102019,\n",
       "   u'following': False,\n",
       "   u'friends_count': 1533,\n",
       "   u'geo_enabled': True,\n",
       "   u'has_extended_profile': False,\n",
       "   u'id': 28370071,\n",
       "   u'id_str': u'28370071',\n",
       "   u'is_translation_enabled': False,\n",
       "   u'is_translator': False,\n",
       "   u'lang': u'en',\n",
       "   u'listed_count': 1278,\n",
       "   u'location': u'Canada',\n",
       "   u'name': u'Green Party Canada',\n",
       "   u'notifications': False,\n",
       "   u'profile_background_color': u'497D2B',\n",
       "   u'profile_background_image_url': u'http://pbs.twimg.com/profile_background_images/636227943589642240/JqIz7g-l.png',\n",
       "   u'profile_background_image_url_https': u'https://pbs.twimg.com/profile_background_images/636227943589642240/JqIz7g-l.png',\n",
       "   u'profile_background_tile': True,\n",
       "   u'profile_banner_url': u'https://pbs.twimg.com/profile_banners/28370071/1441726881',\n",
       "   u'profile_image_url': u'http://pbs.twimg.com/profile_images/651840185219575808/0OD1xQ5d_normal.jpg',\n",
       "   u'profile_image_url_https': u'https://pbs.twimg.com/profile_images/651840185219575808/0OD1xQ5d_normal.jpg',\n",
       "   u'profile_link_color': u'3D9B35',\n",
       "   u'profile_sidebar_border_color': u'FFFFFF',\n",
       "   u'profile_sidebar_fill_color': u'DDFFCC',\n",
       "   u'profile_text_color': u'333333',\n",
       "   u'profile_use_background_image': True,\n",
       "   u'protected': False,\n",
       "   u'screen_name': u'CanadianGreens',\n",
       "   u'statuses_count': 6365,\n",
       "   u'time_zone': u'Eastern Time (US & Canada)',\n",
       "   u'url': u'http://t.co/brZVP1xnPc',\n",
       "   u'utc_offset': -14400,\n",
       "   u'verified': True}},\n",
       " u'source': u'<a href=\"http://twitter.com\" rel=\"nofollow\">Twitter Web Client</a>',\n",
       " u'text': u'RT @CanadianGreens: Mr. Harper has irresponsibly allowed us to fall behind on helping the poor around the world. Shameful. #MunkDebate\\nhttp\\u2026',\n",
       " u'truncated': False,\n",
       " u'user': {u'contributors_enabled': False,\n",
       "  u'created_at': u'Thu Dec 03 18:49:54 +0000 2009',\n",
       "  u'default_profile': True,\n",
       "  u'default_profile_image': True,\n",
       "  u'description': u'',\n",
       "  u'entities': {u'description': {u'urls': []}},\n",
       "  u'favourites_count': 0,\n",
       "  u'follow_request_sent': False,\n",
       "  u'followers_count': 2,\n",
       "  u'following': False,\n",
       "  u'friends_count': 2,\n",
       "  u'geo_enabled': False,\n",
       "  u'has_extended_profile': False,\n",
       "  u'id': 94388513,\n",
       "  u'id_str': u'94388513',\n",
       "  u'is_translation_enabled': False,\n",
       "  u'is_translator': False,\n",
       "  u'lang': u'en',\n",
       "  u'listed_count': 0,\n",
       "  u'location': u'',\n",
       "  u'name': u'Lisa Mactaggart',\n",
       "  u'notifications': False,\n",
       "  u'profile_background_color': u'C0DEED',\n",
       "  u'profile_background_image_url': u'http://abs.twimg.com/images/themes/theme1/bg.png',\n",
       "  u'profile_background_image_url_https': u'https://abs.twimg.com/images/themes/theme1/bg.png',\n",
       "  u'profile_background_tile': False,\n",
       "  u'profile_image_url': u'http://abs.twimg.com/sticky/default_profile_images/default_profile_2_normal.png',\n",
       "  u'profile_image_url_https': u'https://abs.twimg.com/sticky/default_profile_images/default_profile_2_normal.png',\n",
       "  u'profile_link_color': u'0084B4',\n",
       "  u'profile_sidebar_border_color': u'C0DEED',\n",
       "  u'profile_sidebar_fill_color': u'DDEEF6',\n",
       "  u'profile_text_color': u'333333',\n",
       "  u'profile_use_background_image': True,\n",
       "  u'protected': False,\n",
       "  u'screen_name': u'lmactaggart',\n",
       "  u'statuses_count': 8,\n",
       "  u'time_zone': None,\n",
       "  u'url': None,\n",
       "  u'utc_offset': None,\n",
       "  u'verified': False}}"
      ]
     },
     "execution_count": 13,
     "metadata": {},
     "output_type": "execute_result"
    }
   ],
   "source": [
    "with codecs.open(datapath+files[0], 'r', encoding='utf-8') as f:\n",
    "    o = json.load(f)"
   ]
  },
  {
   "cell_type": "code",
   "execution_count": null,
   "metadata": {
    "collapsed": true
   },
   "outputs": [],
   "source": []
  }
 ],
 "metadata": {
  "kernelspec": {
   "display_name": "Python 2",
   "language": "python",
   "name": "python2"
  },
  "language_info": {
   "codemirror_mode": {
    "name": "ipython",
    "version": 2
   },
   "file_extension": ".py",
   "mimetype": "text/x-python",
   "name": "python",
   "nbconvert_exporter": "python",
   "pygments_lexer": "ipython2",
   "version": "2.7.10"
  }
 },
 "nbformat": 4,
 "nbformat_minor": 0
}
