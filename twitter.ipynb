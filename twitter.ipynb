{
 "cells": [
  {
   "cell_type": "markdown",
   "metadata": {},
   "source": [
    "#Getting tweets"
   ]
  },
  {
   "cell_type": "code",
   "execution_count": 1,
   "metadata": {
    "collapsed": true
   },
   "outputs": [],
   "source": [
    "import json\n",
    "from TwitterAPI import TwitterAPI\n",
    "\n",
    "consumer_key = 'Gu55YpRjPTSjgkdRbkXgoAI9l'\n",
    "consumer_secret = 'wijIEJOekOGvsFDH2B4AAwVszz0QYjPJts8H86rML7Vy6SqLd6'\n",
    "access_token_key = '3816925519-WACSby9s79TVr222XYtmsn5ZkWCRs55jHFuDI56'\n",
    "access_token_secret = 'SF16x1zYaL6xIpEDJkc2ToRjCjB7xpZCt2lwlI4tcHjbL'\n",
    "\n",
    "api = TwitterAPI(consumer_key, consumer_secret, access_token_key, access_token_secret)"
   ]
  },
  {
   "cell_type": "code",
   "execution_count": 119,
   "metadata": {
    "collapsed": false
   },
   "outputs": [],
   "source": [
    "def get_tweets_by_date(q):\n",
    "    end_point = 'search/tweets'\n",
    "    parameters = {\n",
    "        'q':q, \n",
    "        'lang':'en',\n",
    "        'count':1000\n",
    "    }\n",
    "    r = api.request(end_point, parameters)\n",
    "    return r\n",
    "\n",
    "def get_date_str(y, m , d):\n",
    "    return str(y)+'-'+str(m).zfill(2)+'-'+str(d).zfill(2)"
   ]
  },
  {
   "cell_type": "code",
   "execution_count": 144,
   "metadata": {
    "collapsed": false
   },
   "outputs": [],
   "source": [
    "# t_str = 'since:'+'2015-10-06'+' until:'+'2015-10-07'\n",
    "l=[]\n",
    "for i in range(6):\n",
    "    s = '* since:'+get_date_str(2015, 10, 1+i)+' until:'+get_date_str(2015, 10, 2+i)\n",
    "#     print s\n",
    "    r = get_tweets_by_date(s)\n",
    "    l.append(r)"
   ]
  },
  {
   "cell_type": "code",
   "execution_count": 145,
   "metadata": {
    "collapsed": false
   },
   "outputs": [],
   "source": [
    "for i in range(29):\n",
    "    s = '* since:'+get_date_str(2015, 9, 1+i)+' until:'+get_date_str(2015, 9, 2+i)\n",
    "#     print s\n",
    "    r = get_tweets_by_date(s)\n",
    "    l.append(r)"
   ]
  },
  {
   "cell_type": "code",
   "execution_count": 146,
   "metadata": {
    "collapsed": true
   },
   "outputs": [],
   "source": [
    "l.append(get_tweets_by_date('* since:2015-09-30 until:2015-10-01'))\n",
    "l.append(get_tweets_by_date('* since:2015-10-07'))"
   ]
  },
  {
   "cell_type": "code",
   "execution_count": null,
   "metadata": {
    "collapsed": true
   },
   "outputs": [],
   "source": [
    "for r in l:\n",
    "    for item in r:\n",
    "        filename = item['id_str'] + '.json'\n",
    "        with open('data/raw/'+filename,'w') as f:\n",
    "            json.dump(item,f)"
   ]
  },
  {
   "cell_type": "code",
   "execution_count": 150,
   "metadata": {
    "collapsed": false
   },
   "outputs": [
    {
     "name": "stdout",
     "output_type": "stream",
     "text": [
      "Object `TwitterAPI.place_id` not found.\n"
     ]
    }
   ],
   "source": [
    "TwitterAPI.place_id?"
   ]
  },
  {
   "cell_type": "code",
   "execution_count": null,
   "metadata": {
    "collapsed": true
   },
   "outputs": [],
   "source": []
  }
 ],
 "metadata": {
  "kernelspec": {
   "display_name": "Python 2",
   "language": "python",
   "name": "python2"
  },
  "language_info": {
   "codemirror_mode": {
    "name": "ipython",
    "version": 2
   },
   "file_extension": ".py",
   "mimetype": "text/x-python",
   "name": "python",
   "nbconvert_exporter": "python",
   "pygments_lexer": "ipython2",
   "version": "2.7.10"
  }
 },
 "nbformat": 4,
 "nbformat_minor": 0
}
