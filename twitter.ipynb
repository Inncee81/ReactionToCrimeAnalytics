{
 "cells": [
  {
   "cell_type": "markdown",
   "metadata": {},
   "source": [
    "#Getting tweets"
   ]
  },
  {
   "cell_type": "code",
   "execution_count": 86,
   "metadata": {
    "collapsed": true
   },
   "outputs": [],
   "source": [
    "import json\n",
    "from TwitterAPI import TwitterAPI\n",
    "\n",
    "consumer_key = 'Gu55YpRjPTSjgkdRbkXgoAI9l'\n",
    "consumer_secret = 'wijIEJOekOGvsFDH2B4AAwVszz0QYjPJts8H86rML7Vy6SqLd6'\n",
    "access_token_key = '3816925519-WACSby9s79TVr222XYtmsn5ZkWCRs55jHFuDI56'\n",
    "access_token_secret = 'SF16x1zYaL6xIpEDJkc2ToRjCjB7xpZCt2lwlI4tcHjbL'\n",
    "# consumer_key = '9cQ7SNtWsmTTfta8Gv5y8svWD'\n",
    "# consumer_secret = 'kjJllUPEJefFQ4Dfr6dBXDETiQaVWFXTt0zLSNMy8tY8F8IpqK'\n",
    "# access_token_key = '3129088320-dIfoDZOt5cIKVCFnJpS0krt3oCYPB13rk5ITavI'\n",
    "# access_token_secret = 'H41REM344zgKCvJenCGGsF1JbFSK8I1r1WvFrc8Fs74jg'\n",
    "\n",
    "api = TwitterAPI(consumer_key, consumer_secret, access_token_key, access_token_secret)"
   ]
  },
  {
   "cell_type": "code",
   "execution_count": 119,
   "metadata": {
    "collapsed": false
   },
   "outputs": [],
   "source": [
    "#\n",
    "def get_tweets_by_date(q):\n",
    "    end_point = 'search/tweets'\n",
    "    parameters = {\n",
    "        'q':q, \n",
    "        'lang':'en',\n",
    "        'count':1000\n",
    "    }\n",
    "    r = api.request(end_point, parameters)\n",
    "    return r\n",
    "\n",
    "def get_date_str(y, m , d):\n",
    "    return str(y)+'-'+str(m).zfill(2)+'-'+str(d).zfill(2)"
   ]
  },
  {
   "cell_type": "code",
   "execution_count": 144,
   "metadata": {
    "collapsed": false
   },
   "outputs": [],
   "source": [
    "#\n",
    "l=[]\n",
    "for i in range(6):\n",
    "    s = '* since:'+get_date_str(2015, 10, 1+i)+' until:'+get_date_str(2015, 10, 2+i)\n",
    "    r = get_tweets_by_date(s)\n",
    "    l.append(r)"
   ]
  },
  {
   "cell_type": "code",
   "execution_count": 145,
   "metadata": {
    "collapsed": false
   },
   "outputs": [],
   "source": [
    "#\n",
    "for i in range(29):\n",
    "    s = '* since:'+get_date_str(2015, 9, 1+i)+' until:'+get_date_str(2015, 9, 2+i)\n",
    "    r = get_tweets_by_date(s)\n",
    "    l.append(r)\n",
    "\n",
    "l.append(get_tweets_by_date('* since:2015-09-30 until:2015-10-01'))\n",
    "l.append(get_tweets_by_date('* since:2015-10-07'))"
   ]
  },
  {
   "cell_type": "code",
   "execution_count": null,
   "metadata": {
    "collapsed": true
   },
   "outputs": [],
   "source": [
    "#\n",
    "for r in l:\n",
    "    for item in r:\n",
    "        filename = item['id_str'] + '.json'\n",
    "        with open('data/raw/'+filename,'w') as f:\n",
    "            json.dump(item,f)"
   ]
  },
  {
   "cell_type": "code",
   "execution_count": 6,
   "metadata": {
    "collapsed": false
   },
   "outputs": [
    {
     "data": {
      "text/plain": [
       "10"
      ]
     },
     "execution_count": 6,
     "metadata": {},
     "output_type": "execute_result"
    }
   ],
   "source": [
    "import geocoder\n",
    "cities = ['New York', 'Los Angeles' ,'Houston', 'Chicago', 'Dalias', 'Detroit', 'Washington', 'Boston', 'Nashville', 'Louisville'];len(cities)"
   ]
  },
  {
   "cell_type": "code",
   "execution_count": 74,
   "metadata": {
    "collapsed": false
   },
   "outputs": [
    {
     "data": {
      "text/plain": [
       "{'Boston': '42.3600825,-71.0588801',\n",
       " 'Chicago': '41.8781136,-87.6297982',\n",
       " 'Dalias': '36.8215191,-2.8708401',\n",
       " 'Detroit': '42.331427,-83.0457538',\n",
       " 'Houston': '29.7604267,-95.3698028',\n",
       " 'Los Angeles': '34.0522342,-118.2436849',\n",
       " 'Louisville': '38.2526647,-85.7584557',\n",
       " 'Nashville': '36.1626638,-86.7816016',\n",
       " 'New York': '40.7127837,-74.0059413',\n",
       " 'Washington': '38.9071923,-77.0368707'}"
      ]
     },
     "execution_count": 74,
     "metadata": {},
     "output_type": "execute_result"
    }
   ],
   "source": [
    "city_geocode = dict()\n",
    "for city in cities:\n",
    "    s = geocoder.google(city).latlng\n",
    "    city_geocode[city] = str(s[0])+','+str(s[1])\n",
    "city_geocode"
   ]
  },
  {
   "cell_type": "code",
   "execution_count": 28,
   "metadata": {
    "collapsed": false
   },
   "outputs": [],
   "source": [
    "# for city in cities:\n",
    "#     for \n",
    "import datetime\n",
    "today = datetime.date.today()\n",
    "yesterday = today - datetime.timedelta(1);yesterday.isoformat()\n",
    "\n",
    "day = today\n",
    "dates = []\n",
    "oneday = datetime.timedelta(1)\n",
    "for i in range(10):\n",
    "    dates.append(day.isoformat())\n",
    "    day = day - oneday"
   ]
  },
  {
   "cell_type": "code",
   "execution_count": 89,
   "metadata": {
    "collapsed": false
   },
   "outputs": [],
   "source": [
    "import os"
   ]
  },
  {
   "cell_type": "code",
   "execution_count": 75,
   "metadata": {
    "collapsed": false
   },
   "outputs": [],
   "source": [
    "def get_tweets(gcode, time_lim):\n",
    "    end_point = 'search/tweets'\n",
    "    parameters = {\n",
    "        'q':'* '+time_lim,\n",
    "        'lang':'en',\n",
    "        'geocode':gcode+',10mi',\n",
    "        'count':100\n",
    "    }\n",
    "    r = api.request(end_point, parameters)\n",
    "    return r"
   ]
  },
  {
   "cell_type": "code",
   "execution_count": 102,
   "metadata": {
    "collapsed": false
   },
   "outputs": [],
   "source": [
    "def get_all_tweets():\n",
    "    data = {}\n",
    "    for d in range(len(dates)):\n",
    "        if d == 0:\n",
    "            date_string = 'since:'+dates[d]\n",
    "        else:\n",
    "            date_string = 'since:'+dates[d]+' since:'+dates[d-1]\n",
    "        for c in cities[:1]:\n",
    "            r = get_tweets(city_geocode[c], date_string)\n",
    "            data[c] = data.get(c, [])\n",
    "            data[c].append(r)\n",
    "    return data\n",
    "            \n",
    "def writing_data(dataset):\n",
    "    for c in cities[:1]:\n",
    "        day = 0\n",
    "        for daily_tweets in dataset[c]:\n",
    "            for item in daily_tweets:\n",
    "                filename = 'data/bycity/'+c+'/all/'+item['id_str'] + '.json'\n",
    "                if not os.path.exists(os.path.dirname(filename)):\n",
    "                    os.makedirs(os.path.dirname(filename))\n",
    "                with open(filename,'w') as f:\n",
    "                    json.dump(item,f)\n",
    "            day += 1"
   ]
  },
  {
   "cell_type": "code",
   "execution_count": 87,
   "metadata": {
    "collapsed": false
   },
   "outputs": [],
   "source": [
    "dataset = get_all_tweets()"
   ]
  },
  {
   "cell_type": "code",
   "execution_count": 103,
   "metadata": {
    "collapsed": false
   },
   "outputs": [],
   "source": [
    "writing_data(dataset)"
   ]
  },
  {
   "cell_type": "code",
   "execution_count": 94,
   "metadata": {
    "collapsed": false
   },
   "outputs": [
    {
     "name": "stdout",
     "output_type": "stream",
     "text": [
      "100\n",
      "100\n",
      "100\n",
      "100\n",
      "100\n",
      "100\n",
      "100\n",
      "100\n",
      "100\n",
      "100\n"
     ]
    }
   ],
   "source": [
    "for rny in dataset['New York']:\n",
    "    print sum([1 for i in rny])"
   ]
  },
  {
   "cell_type": "code",
   "execution_count": 68,
   "metadata": {
    "collapsed": true
   },
   "outputs": [],
   "source": [
    "time_lim = 'since:2015-10-08'\n",
    "gcode = '40.7127837,-74.0059413'\n",
    "end_point = 'search/tweets'\n",
    "parameters = {\n",
    "    'q':'* '+time_lim,\n",
    "    'lang':'en',\n",
    "    'geocode':gcode+',10mi',\n",
    "    'count':100\n",
    "}\n",
    "r = api.request(end_point, parameters)"
   ]
  },
  {
   "cell_type": "code",
   "execution_count": 69,
   "metadata": {
    "collapsed": false
   },
   "outputs": [
    {
     "name": "stdout",
     "output_type": "stream",
     "text": [
      "it me someone date me so I'm not annoying anymore @5SOS http://t.co/0ueAhT9r9a\n",
      "I'm at Theater District in New York, NY https://t.co/EkvGMpgBYK\n",
      "RT @Hungry_Uncle: repost via @divvypic from @grillinfool\n",
      "This is how I plan on going out! Altho I hope they have longer… https://t.co/5Vj7M…\n",
      "Such a great time yesterday with the amazingly talented (and comforting) @alishaTsiegel. Can't wait… https://t.co/7wHJNhkjkC\n",
      "RT @Hungry_Uncle: repost via @divvypic from @grillinfool\n",
      "This is how I plan on going out! Altho I hope they have longer… https://t.co/5Vj7M…\n",
      "The Uber of Ubers. @ New-York Historical Society https://t.co/3aNLrnBanc\n",
      "RT @Hungry_Uncle: repost via @divvypic from @grillinfool\n",
      "This is how I plan on going out! Altho I hope they have longer… https://t.co/5Vj7M…\n",
      "Understatement \n",
      "#cantinelupo #wine #winelovers #lupolife #instagramers #igerslatina #igersroma… https://t.co/vbGsx0ZrFB\n",
      "MS MR (@ Terminal 5 for Ms Mr: How Does It Feel Tour in New York, NY) https://t.co/SdbmADUYT2\n",
      "Ohhh, @moo 😍😍😍You always know just what to say. Got a big batch of biz cards and postcards in the… https://t.co/LL7V0Vb6Rl\n",
      "At sobsnyc bumping @kirkisssss  for almost nobody @ SOB's (Sounds of Brazil) https://t.co/kA7h1vGloU\n",
      "So yeah Resident Evil 0 on PS4 was quite fun to experience again. Can't wait to get the Origins… https://t.co/sDBnsO6d92\n",
      "Master Chief and Locke  #Halo #TriForce #NYCC #newyorkcomiccon #Nycc2015 @ New York Comic Con at the… https://t.co/9d8jKD2GaF\n",
      "Bones of the Book by #TimothyEly coming soon to http://t.co/FAMUyJDkZd This is Ely's most autobiographical… https://t.co/zxPONKNmJI\n",
      "Hey @ricky_martin !! How u doing? Looking fresh! Call me if you need anything. #RickyMartinTour @… https://t.co/VnuOTqoPbF\n",
      "Hoboken Pier A Park night shooting.... Sony A7R lente Sony 35mm F 2,8 #sonya7r #sonyphoto #sonyfe… https://t.co/1zQ3qxnyUv\n",
      "Antony Loewenstein &amp; Jeremy Scahill in conversation about Antony's new book #DisasterCapitalism.… https://t.co/8MsZeZYVts\n",
      "#Soup #dumplings tonight. This was a great treat for me tonight. A little #chilly in #nyc makes for a… https://t.co/S9VzsVi1S9\n",
      "RT @Hungry_Uncle: repost via @divvypic from @grillinfool\n",
      "This is how I plan on going out! Altho I hope they have longer… https://t.co/5Vj7M…\n",
      "This #Legal #job might be a great fit for you: Legal Secretary - http://t.co/14D4B2cTOq #NewYork, New York #Hiring\n",
      "all the heart eyes for @clairepettibone + @trumpetandhorn. #bridalfashionweek #nybfw #StudioEMPxCWD @… https://t.co/R1Sif5FA6P\n",
      "Last minute concert. Nose bleeding seats. Drunk as a skunk. I don't give a Fuck!!!! RICKY MARTIN IN… https://t.co/R6j8nZC1nV\n",
      "I loved spending time in the Butterfly House! Seeing 500 live butterflies up close and flying all… https://t.co/SjtFnwr5kj\n",
      "RT @Hungry_Uncle: repost via @divvypic from @grillinfool\n",
      "This is how I plan on going out! Altho I hope they have longer… https://t.co/5Vj7M…\n",
      "This stopped me right in my tracks on the way home. clubpastelheart in the east village 🇿🇦🇺🇸 @ East… https://t.co/BmDqKeeGKp\n",
      "By @officialdbilla via repostwhiz app:\n",
      "COME SHOW LOVE‼️ #Graduated #SheLikes Live Performance By… https://t.co/I3y5UkX0Y6\n",
      "Covering the Latin Grammy Acoustic Sessions in NYC's Red Carpet!!! ❤️ @buzz60latino @fatimaptacek… https://t.co/C39vCAe7kY\n",
      "#nofilter this fucking theater you guys #thewarondrugs @ Radio City Music Hall https://t.co/CZJVD1pmko\n",
      "I don't like the dress on Lucerro makes her huge haye the cape  #LatinAMAs\n",
      "@summerstage This concert is #Insane! #Common, #CeeLo, #Bilal all appearing on stage with #TheRoots… https://t.co/MHP8Wwuyeq\n",
      "One more. #Warrior @ Jacob K Javits Convention Center https://t.co/jJiRIAqT25\n",
      "RT @VeraBabyLIVE: Just about to start my Vampirella makeup so bright and early which usually makes me a little cranky,… https://t.co/1smAR8…\n",
      "Said my goodbyes to my boy tonight... See you when I get there bro...… https://t.co/dgkFfmUapK\n",
      "Greatness! My big bro blackthought nuff said and man this other guy @common probably had no idea how… https://t.co/SJofX7Agtj\n",
      "Guess who smells @ Ming Xing BBQ https://t.co/sWwBIdZfKZ\n",
      "There's nothing like having your sisters here in NYC. #family… https://t.co/3IzOvvZl7v\n",
      "Small (from left), medium and extra large 😂 @ Kabayan Authentic Filipino Cuisine https://t.co/NpnTsSnWul\n",
      "Endless Love Showcase @tbabrooklyn No Cover! #deephouse #party #dance #music #techno #dj #locals… https://t.co/pKTz01yhAs\n",
      "RT @theroots: It's a beautiful night in Central Park NYC. Congrats to @SummerStage on 30 years, and thanks for all… https://t.co/8pUxYQJyFz\n",
      "• It was such a beautiful day today, beautiful enough to inspire me to finally return to social… https://t.co/PNdlPsWSWZ\n",
      "Sailor Moon 💕NY! #nycc @ Javits Center https://t.co/tk99XFPfYB\n",
      "Just posted a photo @ Jacob K Javits Convention Center https://t.co/UsXjfsxJEs\n",
      "Me &amp; the bestie @jennypina &lt;3 #nycc @ Hard Rock Cafe https://t.co/JdvsgohY60\n",
      "#Transportation #Job in #JerseyCity, NJ: Diesel Mechanic at Nestle Waters NA http://t.co/uWxQVZZrh4 #Jobs http://t.co/EGnc5M0mWg\n",
      "Empire State of mind #rooftopgod @ Cloud Social NYC https://t.co/O3uAYPGbbX\n",
      "RT @Hungry_Uncle: repost via @divvypic from @grillinfool\n",
      "This is how I plan on going out! Altho I hope they have longer… https://t.co/5Vj7M…\n",
      "❤️ dvilymvcer GET BETTER SOON ❤️ @ Riverbank Park https://t.co/XiEJH9Kl1F\n",
      "RT @Hungry_Uncle: repost via @divvypic from @grillinfool\n",
      "This is how I plan on going out! Altho I hope they have longer… https://t.co/5Vj7M…\n",
      "Well I guess we know who NYC is rooting for on Saturday (there's no way this references the Mets… https://t.co/swpHKQ77EL\n",
      "Rana Mansour New York Premiere \n",
      "@ranamusic @erwinsmusic \n",
      "127drums @ DROM https://t.co/jUSMokJ7Tg\n",
      "Just posted a photo @ Comic Con New York - Javitz Center https://t.co/S13nwhabj5\n",
      "2001. #graduation #throwbackthursday #ps233 @ Ps 233 Langston Hughes https://t.co/cbsflcJ9tr\n",
      "I'm at @DesiShack in New York, NY https://t.co/zizLGq9DtA\n",
      "RT @1407bway: Hello neighbor. @empirestatebldg #sunset #nyc #newyork #midtown #photography #realestate @ New York,… https://t.co/RvUko3YTRF\n",
      "RT @Hungry_Uncle: repost via @divvypic from @grillinfool\n",
      "This is how I plan on going out! Altho I hope they have longer… https://t.co/5Vj7M…\n",
      "So proud of @slavahomebody and this massive, honest project. @ Ukrainian Museum https://t.co/OeUIIBhM7T\n",
      "RT @Hungry_Uncle: repost via @divvypic from @grillinfool\n",
      "This is how I plan on going out! Altho I hope they have longer… https://t.co/5Vj7M…\n",
      "Not a real selfie - just proof of the masterpiece by dhiranmistry_   💇🏼 #dayoff #annualhaircut… https://t.co/EkyqZIUFp3\n",
      "The \"Gossamer\" collection by annacampbellbridal was inspired by French romance. Lots of lace and… https://t.co/OiBrnAVk5X\n",
      "If u have to ask u should be fired. He's focus on liv's coochie! #Scandal\n",
      "When you're so amped to get to the gym you forget to change out of your dress socks. #loloops… https://t.co/MhB8XSNCPX\n",
      "I'm at Cellar Bar at Bryant Park Hotel - @cellarbarny in New York, NY https://t.co/VinZH9Lz9n\n",
      "Yum!!! Bug ass pretzel @ World of Beer - Chelsea https://t.co/tBI6FlbNeM\n",
      "Things like this make the world so much better. @ NYC/Tribeca https://t.co/dv1pb2CLaX\n",
      "RT @511nyNJ: Update: Construction on #US19TruckRoute SB from Sip Av to Duncan Av http://t.co/qYzGcIlhTt\n",
      "Hipsterific (@ Vinnie's Pizzeria in Brooklyn, NY) https://t.co/OvtFfZSose\n",
      "RT @Hungry_Uncle: repost via @divvypic from @grillinfool\n",
      "This is how I plan on going out! Altho I hope they have longer… https://t.co/5Vj7M…\n",
      "Sweet Jesus they are setting up a blackjack table http://t.co/4EvIbxMLXP\n",
      "#gimmegimmegimme #BlackAbbath #Tragedy @ The Gramercy Theatre https://t.co/6zafT0auLx\n",
      "I'm at @IppudoNy in New York, NY https://t.co/H7Xlp7iUOo\n",
      "#WonderWoman for #batmanvsuperman suit looks #HOT Can't wait to see her in action on the silver… https://t.co/jVghdLtf8P\n",
      "#tbt \n",
      "You figure it out . #20yrson2ndst #orginaleastvillageitalian #ilbagattotogonyc… https://t.co/Hct7BfpUrU\n",
      "RT @Hungry_Uncle: repost via @divvypic from @grillinfool\n",
      "This is how I plan on going out! Altho I hope they have longer… https://t.co/5Vj7M…\n",
      "RT @maxpapendieck: Back in NY w my Canons &amp; Cons @ New York, New York https://t.co/SreVB1uXtv\n",
      "Let the children play in such a lovely day @ Brooklyn Bridge Park https://t.co/tn0YblWwne\n",
      "Talk about a true blast from the past @nattiesando it's been 15 years… https://t.co/0ERlXDTtcl\n",
      "The Little House in the historic #Williamsburg #Brooklyn savings bank @ Rumney Guggenheim https://t.co/sKQ2wwAQBw\n",
      "best news I heard today was that Oh Wonder is moving to Williamsburg @ Williamsburg NYC https://t.co/4tMlxdCq8q\n",
      "Trying to do my best impersonation of Toby Maguire's Spiderman. #Spiderman #EntirelyFromMemory… https://t.co/C9ihSi5z0r\n",
      "Oh man I just love this city 🗽 @ Bryant Park https://t.co/cfMPaqBc4f\n",
      "#Cheeseburger and #broccolini #OnlyInFancyTown #AggressiveFood 🍔 @ Fancy Town https://t.co/acooNN4PNj\n",
      "Just chilling with @realgrumpycat at #nycc! @ Javits Center https://t.co/12Mc1BocyV\n",
      "200 #4 Jiffy Jiffylite 9.5x14.5 Bubble Mailers $82.00 #FreeShip http://t.co/sZOGHMQKyp #CDDVD #Mailers http://t.co/xf1UMFIoKY\n",
      "RT @SamDAddario: I have the coolest major on earth @jmuprssa #DukesDoNYC\n",
      "RT @Hungry_Uncle: repost via @divvypic from @grillinfool\n",
      "This is how I plan on going out! Altho I hope they have longer… https://t.co/5Vj7M…\n",
      "This is Sunny! Sunny is blind :( but loves to snuggle!! Bumps into walls all the time since Sunny… https://t.co/PhsHJjlSTE\n",
      "Villains everywhere #DeathStroke #ragdoll #Bane #ComicCon #Cosplay @ Comic Con New York - Javitz Center https://t.co/XsjaXyPeS4\n",
      "We livin la vida loca - Ricky Martin!!! #msg #rickymartin #oneworldtour #nyc @nataliemac84… https://t.co/GprjjmMJbo\n",
      "#NYM @ Empire State Building https://t.co/Abs4xkehLK\n",
      "She ran away in her sleep and dreamed of paradise. 🔭🇺🇸#hollywood #california @ Hollywood, Los Angeles… https://t.co/AYUWEFIaRL\n",
      "Gig time w @atomicny. @ Metropolitan Pavilion Events &amp; Production Services https://t.co/56YniiFtgT\n",
      "First stop on #boda bday tour. (at @MaisonPremiere in Brooklyn, NY) https://t.co/lZwai1X9PL\n",
      "Remarkable evening with 2 remarkable ladies @tracylperez &amp; @syspies 😀 @ New York, New York https://t.co/cBmG14i4As\n",
      "She reminds me that a womans got one thing on her mind... #rickymartin #msg #90skid #shebangs @… https://t.co/rePW4Ud5f3\n",
      "That last time I was at Comic Con #tbt #nycc #clonewars #heruniverse @ New York Comic Con at the… https://t.co/LU08qP9ihk\n",
      "Music is good (at @BroadwayDiveNyc in New York, NY) https://t.co/54P8IkBWid\n",
      "\"Wish upon a star\" #poems #poetry #words #mynotebook #mywords #thoughts #selfreflection #nycgirl #loa… https://t.co/KxdZpD5JEL\n",
      "RT @pumptrainer: Set and ready! @trxtraining Cardio Mashup goin off! #chaseyourbetter @… https://t.co/K5YQC3NEIN\n",
      "The opening look at my #spring2016 RTW collection at #nyfw. These high low cocktail dress was made of… https://t.co/UnAFgTJnb2\n",
      "RT @MTC_NYC: 🎵They say the neon lights are bright on Broadway🎵 - #FoolForLove curtain just went up! #OpeningNight… https://t.co/4cYZSu36x1\n"
     ]
    }
   ],
   "source": [
    "for i in r:\n",
    "    print i['text']"
   ]
  },
  {
   "cell_type": "code",
   "execution_count": null,
   "metadata": {
    "collapsed": true
   },
   "outputs": [],
   "source": []
  }
 ],
 "metadata": {
  "kernelspec": {
   "display_name": "Python 2",
   "language": "python",
   "name": "python2"
  },
  "language_info": {
   "codemirror_mode": {
    "name": "ipython",
    "version": 2
   },
   "file_extension": ".py",
   "mimetype": "text/x-python",
   "name": "python",
   "nbconvert_exporter": "python",
   "pygments_lexer": "ipython2",
   "version": "2.7.10"
  }
 },
 "nbformat": 4,
 "nbformat_minor": 0
}
